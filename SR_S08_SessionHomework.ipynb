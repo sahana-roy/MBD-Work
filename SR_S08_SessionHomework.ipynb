{
 "cells": [
  {
   "cell_type": "markdown",
   "id": "368e9e9f-ceba-496d-9bb8-e3022c88435a",
   "metadata": {
    "tags": [],
    "pycharm": {
     "name": "#%% md\n"
    }
   },
   "source": [
    "# Exercise 01\n",
    "\n",
    "Build a Linear Regression model for the `california_housing` dataset\n",
    "\n",
    " - **PART 1**\n",
    "    - **Question 1** - What are the $R^2$ metrics for train and test?\n",
    "    - **Question 2** - Imagine that me and my wife, we want to sell our house in *528-426 W Scott Ave\n",
    "Clovis, CA 93612* but we have no idea about the price. Our house is 30 years old, with 6 rooms and 3 bedrooms. In our geographic block group we are 300 people. Our income is 60K.\n",
    "\n",
    "    - *NOTE: Don't use Latitude and Longitude for this part*\n",
    "\n",
    " - **PART 2** - Repeat the process, but now include new three variables called `distance2SF`, `distance2SJ` and `distance2SD` containing the distance from each area to San Francisco, San Jose and San Diego, respectively, in Km.\n",
    "\n",
    "    - **Question 3** - What is the recomended for sale price of my house now? \n",
    "    - *NOTE: You can use the `geopy` library to calculate distances between locations. https://geopy.readthedocs.io/en/stable/#module-geopy.distance*\n",
    "\n",
    "**Don't forget...**\n",
    " - Split data into train and test in order to evaluate the model with unseen data\n",
    " - Normalize data to avoid scaling issues when fitting the model (specially for the LR model)\n",
    " - Train your model and apply it to the test data.\n",
    " - Evaluate the model with the `score` function, for both train and test datasets."
   ]
  },
  {
   "cell_type": "code",
   "execution_count": 1,
   "outputs": [],
   "source": [
    "from sklearn import datasets"
   ],
   "metadata": {
    "collapsed": false,
    "pycharm": {
     "name": "#%%\n"
    }
   }
  },
  {
   "cell_type": "code",
   "execution_count": 2,
   "outputs": [],
   "source": [
    "california_housing = datasets.fetch_california_housing()"
   ],
   "metadata": {
    "collapsed": false,
    "pycharm": {
     "name": "#%%\n"
    }
   }
  },
  {
   "cell_type": "code",
   "execution_count": 3,
   "outputs": [
    {
     "name": "stdout",
     "output_type": "stream",
     "text": [
      ".. _california_housing_dataset:\n",
      "\n",
      "California Housing dataset\n",
      "--------------------------\n",
      "\n",
      "**Data Set Characteristics:**\n",
      "\n",
      "    :Number of Instances: 20640\n",
      "\n",
      "    :Number of Attributes: 8 numeric, predictive attributes and the target\n",
      "\n",
      "    :Attribute Information:\n",
      "        - MedInc        median income in block group\n",
      "        - HouseAge      median house age in block group\n",
      "        - AveRooms      average number of rooms per household\n",
      "        - AveBedrms     average number of bedrooms per household\n",
      "        - Population    block group population\n",
      "        - AveOccup      average number of household members\n",
      "        - Latitude      block group latitude\n",
      "        - Longitude     block group longitude\n",
      "\n",
      "    :Missing Attribute Values: None\n",
      "\n",
      "This dataset was obtained from the StatLib repository.\n",
      "https://www.dcc.fc.up.pt/~ltorgo/Regression/cal_housing.html\n",
      "\n",
      "The target variable is the median house value for California districts,\n",
      "expressed in hundreds of thousands of dollars ($100,000).\n",
      "\n",
      "This dataset was derived from the 1990 U.S. census, using one row per census\n",
      "block group. A block group is the smallest geographical unit for which the U.S.\n",
      "Census Bureau publishes sample data (a block group typically has a population\n",
      "of 600 to 3,000 people).\n",
      "\n",
      "An household is a group of people residing within a home. Since the average\n",
      "number of rooms and bedrooms in this dataset are provided per household, these\n",
      "columns may take surpinsingly large values for block groups with few households\n",
      "and many empty houses, such as vacation resorts.\n",
      "\n",
      "It can be downloaded/loaded using the\n",
      ":func:`sklearn.datasets.fetch_california_housing` function.\n",
      "\n",
      ".. topic:: References\n",
      "\n",
      "    - Pace, R. Kelley and Ronald Barry, Sparse Spatial Autoregressions,\n",
      "      Statistics and Probability Letters, 33 (1997) 291-297\n",
      "\n"
     ]
    }
   ],
   "source": [
    "print(california_housing[\"DESCR\"])"
   ],
   "metadata": {
    "collapsed": false,
    "pycharm": {
     "name": "#%%\n"
    }
   }
  },
  {
   "cell_type": "code",
   "execution_count": 4,
   "outputs": [],
   "source": [
    "#Building a Linear Regression model for the california_housing dataset\n",
    "import pandas as pd\n",
    "#PART 1\n",
    "X = pd.DataFrame(california_housing[\"data\"][:,0:6], columns=california_housing[\"feature_names\"][0:6])\n",
    "y = pd.Series(california_housing[\"target\"], name=california_housing[\"target_names\"][0])"
   ],
   "metadata": {
    "collapsed": false,
    "pycharm": {
     "name": "#%%\n"
    }
   }
  },
  {
   "cell_type": "code",
   "execution_count": 5,
   "outputs": [
    {
     "data": {
      "text/plain": "   MedInc  HouseAge  AveRooms  AveBedrms  Population  AveOccup\n0  8.3252      41.0  6.984127   1.023810       322.0  2.555556\n1  8.3014      21.0  6.238137   0.971880      2401.0  2.109842\n2  7.2574      52.0  8.288136   1.073446       496.0  2.802260\n3  5.6431      52.0  5.817352   1.073059       558.0  2.547945\n4  3.8462      52.0  6.281853   1.081081       565.0  2.181467",
      "text/html": "<div>\n<style scoped>\n    .dataframe tbody tr th:only-of-type {\n        vertical-align: middle;\n    }\n\n    .dataframe tbody tr th {\n        vertical-align: top;\n    }\n\n    .dataframe thead th {\n        text-align: right;\n    }\n</style>\n<table border=\"1\" class=\"dataframe\">\n  <thead>\n    <tr style=\"text-align: right;\">\n      <th></th>\n      <th>MedInc</th>\n      <th>HouseAge</th>\n      <th>AveRooms</th>\n      <th>AveBedrms</th>\n      <th>Population</th>\n      <th>AveOccup</th>\n    </tr>\n  </thead>\n  <tbody>\n    <tr>\n      <th>0</th>\n      <td>8.3252</td>\n      <td>41.0</td>\n      <td>6.984127</td>\n      <td>1.023810</td>\n      <td>322.0</td>\n      <td>2.555556</td>\n    </tr>\n    <tr>\n      <th>1</th>\n      <td>8.3014</td>\n      <td>21.0</td>\n      <td>6.238137</td>\n      <td>0.971880</td>\n      <td>2401.0</td>\n      <td>2.109842</td>\n    </tr>\n    <tr>\n      <th>2</th>\n      <td>7.2574</td>\n      <td>52.0</td>\n      <td>8.288136</td>\n      <td>1.073446</td>\n      <td>496.0</td>\n      <td>2.802260</td>\n    </tr>\n    <tr>\n      <th>3</th>\n      <td>5.6431</td>\n      <td>52.0</td>\n      <td>5.817352</td>\n      <td>1.073059</td>\n      <td>558.0</td>\n      <td>2.547945</td>\n    </tr>\n    <tr>\n      <th>4</th>\n      <td>3.8462</td>\n      <td>52.0</td>\n      <td>6.281853</td>\n      <td>1.081081</td>\n      <td>565.0</td>\n      <td>2.181467</td>\n    </tr>\n  </tbody>\n</table>\n</div>"
     },
     "execution_count": 5,
     "metadata": {},
     "output_type": "execute_result"
    }
   ],
   "source": [
    "X.head()"
   ],
   "metadata": {
    "collapsed": false,
    "pycharm": {
     "name": "#%%\n"
    }
   }
  },
  {
   "cell_type": "code",
   "execution_count": 6,
   "outputs": [
    {
     "data": {
      "text/plain": "             MedInc      HouseAge      AveRooms     AveBedrms    Population  \\\ncount  20640.000000  20640.000000  20640.000000  20640.000000  20640.000000   \nmean       3.870671     28.639486      5.429000      1.096675   1425.476744   \nstd        1.899822     12.585558      2.474173      0.473911   1132.462122   \nmin        0.499900      1.000000      0.846154      0.333333      3.000000   \n25%        2.563400     18.000000      4.440716      1.006079    787.000000   \n50%        3.534800     29.000000      5.229129      1.048780   1166.000000   \n75%        4.743250     37.000000      6.052381      1.099526   1725.000000   \nmax       15.000100     52.000000    141.909091     34.066667  35682.000000   \n\n           AveOccup  \ncount  20640.000000  \nmean       3.070655  \nstd       10.386050  \nmin        0.692308  \n25%        2.429741  \n50%        2.818116  \n75%        3.282261  \nmax     1243.333333  ",
      "text/html": "<div>\n<style scoped>\n    .dataframe tbody tr th:only-of-type {\n        vertical-align: middle;\n    }\n\n    .dataframe tbody tr th {\n        vertical-align: top;\n    }\n\n    .dataframe thead th {\n        text-align: right;\n    }\n</style>\n<table border=\"1\" class=\"dataframe\">\n  <thead>\n    <tr style=\"text-align: right;\">\n      <th></th>\n      <th>MedInc</th>\n      <th>HouseAge</th>\n      <th>AveRooms</th>\n      <th>AveBedrms</th>\n      <th>Population</th>\n      <th>AveOccup</th>\n    </tr>\n  </thead>\n  <tbody>\n    <tr>\n      <th>count</th>\n      <td>20640.000000</td>\n      <td>20640.000000</td>\n      <td>20640.000000</td>\n      <td>20640.000000</td>\n      <td>20640.000000</td>\n      <td>20640.000000</td>\n    </tr>\n    <tr>\n      <th>mean</th>\n      <td>3.870671</td>\n      <td>28.639486</td>\n      <td>5.429000</td>\n      <td>1.096675</td>\n      <td>1425.476744</td>\n      <td>3.070655</td>\n    </tr>\n    <tr>\n      <th>std</th>\n      <td>1.899822</td>\n      <td>12.585558</td>\n      <td>2.474173</td>\n      <td>0.473911</td>\n      <td>1132.462122</td>\n      <td>10.386050</td>\n    </tr>\n    <tr>\n      <th>min</th>\n      <td>0.499900</td>\n      <td>1.000000</td>\n      <td>0.846154</td>\n      <td>0.333333</td>\n      <td>3.000000</td>\n      <td>0.692308</td>\n    </tr>\n    <tr>\n      <th>25%</th>\n      <td>2.563400</td>\n      <td>18.000000</td>\n      <td>4.440716</td>\n      <td>1.006079</td>\n      <td>787.000000</td>\n      <td>2.429741</td>\n    </tr>\n    <tr>\n      <th>50%</th>\n      <td>3.534800</td>\n      <td>29.000000</td>\n      <td>5.229129</td>\n      <td>1.048780</td>\n      <td>1166.000000</td>\n      <td>2.818116</td>\n    </tr>\n    <tr>\n      <th>75%</th>\n      <td>4.743250</td>\n      <td>37.000000</td>\n      <td>6.052381</td>\n      <td>1.099526</td>\n      <td>1725.000000</td>\n      <td>3.282261</td>\n    </tr>\n    <tr>\n      <th>max</th>\n      <td>15.000100</td>\n      <td>52.000000</td>\n      <td>141.909091</td>\n      <td>34.066667</td>\n      <td>35682.000000</td>\n      <td>1243.333333</td>\n    </tr>\n  </tbody>\n</table>\n</div>"
     },
     "execution_count": 6,
     "metadata": {},
     "output_type": "execute_result"
    }
   ],
   "source": [
    "#MedInc is in 10,000s\n",
    "X.describe()"
   ],
   "metadata": {
    "collapsed": false,
    "pycharm": {
     "name": "#%%\n"
    }
   }
  },
  {
   "cell_type": "code",
   "execution_count": 7,
   "outputs": [
    {
     "data": {
      "text/plain": "0    4.526\n1    3.585\n2    3.521\n3    3.413\n4    3.422\nName: MedHouseVal, dtype: float64"
     },
     "execution_count": 7,
     "metadata": {},
     "output_type": "execute_result"
    }
   ],
   "source": [
    "y.head()"
   ],
   "metadata": {
    "collapsed": false,
    "pycharm": {
     "name": "#%%\n"
    }
   }
  },
  {
   "cell_type": "code",
   "execution_count": 8,
   "outputs": [
    {
     "data": {
      "text/plain": "count    20640.000000\nmean         2.068558\nstd          1.153956\nmin          0.149990\n25%          1.196000\n50%          1.797000\n75%          2.647250\nmax          5.000010\nName: MedHouseVal, dtype: float64"
     },
     "execution_count": 8,
     "metadata": {},
     "output_type": "execute_result"
    }
   ],
   "source": [
    "#y is in 100,000s\n",
    "y.describe()"
   ],
   "metadata": {
    "collapsed": false,
    "pycharm": {
     "name": "#%%\n"
    }
   }
  },
  {
   "cell_type": "code",
   "execution_count": 9,
   "outputs": [],
   "source": [
    "from sklearn.model_selection import train_test_split"
   ],
   "metadata": {
    "collapsed": false,
    "pycharm": {
     "name": "#%%\n"
    }
   }
  },
  {
   "cell_type": "code",
   "execution_count": 10,
   "outputs": [],
   "source": [
    "X_train, X_test, y_train, y_test = train_test_split(\n",
    "    X, y,\n",
    "    test_size=0.2,\n",
    "    random_state=42)"
   ],
   "metadata": {
    "collapsed": false,
    "pycharm": {
     "name": "#%%\n"
    }
   }
  },
  {
   "cell_type": "code",
   "execution_count": 11,
   "outputs": [
    {
     "name": "stdout",
     "output_type": "stream",
     "text": [
      "X_train size: (16512, 6)\n",
      "y_train size: (16512,)\n",
      "X_test size: (4128, 6)\n",
      "y_test size: (4128,)\n"
     ]
    }
   ],
   "source": [
    "print(f\"X_train size: {X_train.shape}\")\n",
    "print(f\"y_train size: {y_train.shape}\")\n",
    "print(f\"X_test size: {X_test.shape}\")\n",
    "print(f\"y_test size: {y_test.shape}\")"
   ],
   "metadata": {
    "collapsed": false,
    "pycharm": {
     "name": "#%%\n"
    }
   }
  },
  {
   "cell_type": "code",
   "execution_count": 12,
   "outputs": [],
   "source": [
    "from sklearn.preprocessing import StandardScaler, MinMaxScaler"
   ],
   "metadata": {
    "collapsed": false,
    "pycharm": {
     "name": "#%%\n"
    }
   }
  },
  {
   "cell_type": "code",
   "execution_count": 13,
   "outputs": [],
   "source": [
    "scaler = MinMaxScaler()"
   ],
   "metadata": {
    "collapsed": false,
    "pycharm": {
     "name": "#%%\n"
    }
   }
  },
  {
   "cell_type": "code",
   "execution_count": 14,
   "outputs": [
    {
     "data": {
      "text/plain": "             MedInc      HouseAge      AveRooms     AveBedrms    Population  \\\ncount  16512.000000  16512.000000  16512.000000  16512.000000  16512.000000   \nmean       3.880754     28.608285      5.435235      1.096685   1426.453004   \nstd        1.904294     12.602499      2.387375      0.433215   1137.056380   \nmin        0.499900      1.000000      0.888889      0.333333      3.000000   \n25%        2.566700     18.000000      4.452055      1.006508    789.000000   \n50%        3.545800     29.000000      5.235874      1.049286   1167.000000   \n75%        4.773175     37.000000      6.061037      1.100348   1726.000000   \nmax       15.000100     52.000000    141.909091     25.636364  35682.000000   \n\n           AveOccup  \ncount  16512.000000  \nmean       3.096961  \nstd       11.578744  \nmin        0.692308  \n25%        2.428799  \n50%        2.817240  \n75%        3.280000  \nmax     1243.333333  ",
      "text/html": "<div>\n<style scoped>\n    .dataframe tbody tr th:only-of-type {\n        vertical-align: middle;\n    }\n\n    .dataframe tbody tr th {\n        vertical-align: top;\n    }\n\n    .dataframe thead th {\n        text-align: right;\n    }\n</style>\n<table border=\"1\" class=\"dataframe\">\n  <thead>\n    <tr style=\"text-align: right;\">\n      <th></th>\n      <th>MedInc</th>\n      <th>HouseAge</th>\n      <th>AveRooms</th>\n      <th>AveBedrms</th>\n      <th>Population</th>\n      <th>AveOccup</th>\n    </tr>\n  </thead>\n  <tbody>\n    <tr>\n      <th>count</th>\n      <td>16512.000000</td>\n      <td>16512.000000</td>\n      <td>16512.000000</td>\n      <td>16512.000000</td>\n      <td>16512.000000</td>\n      <td>16512.000000</td>\n    </tr>\n    <tr>\n      <th>mean</th>\n      <td>3.880754</td>\n      <td>28.608285</td>\n      <td>5.435235</td>\n      <td>1.096685</td>\n      <td>1426.453004</td>\n      <td>3.096961</td>\n    </tr>\n    <tr>\n      <th>std</th>\n      <td>1.904294</td>\n      <td>12.602499</td>\n      <td>2.387375</td>\n      <td>0.433215</td>\n      <td>1137.056380</td>\n      <td>11.578744</td>\n    </tr>\n    <tr>\n      <th>min</th>\n      <td>0.499900</td>\n      <td>1.000000</td>\n      <td>0.888889</td>\n      <td>0.333333</td>\n      <td>3.000000</td>\n      <td>0.692308</td>\n    </tr>\n    <tr>\n      <th>25%</th>\n      <td>2.566700</td>\n      <td>18.000000</td>\n      <td>4.452055</td>\n      <td>1.006508</td>\n      <td>789.000000</td>\n      <td>2.428799</td>\n    </tr>\n    <tr>\n      <th>50%</th>\n      <td>3.545800</td>\n      <td>29.000000</td>\n      <td>5.235874</td>\n      <td>1.049286</td>\n      <td>1167.000000</td>\n      <td>2.817240</td>\n    </tr>\n    <tr>\n      <th>75%</th>\n      <td>4.773175</td>\n      <td>37.000000</td>\n      <td>6.061037</td>\n      <td>1.100348</td>\n      <td>1726.000000</td>\n      <td>3.280000</td>\n    </tr>\n    <tr>\n      <th>max</th>\n      <td>15.000100</td>\n      <td>52.000000</td>\n      <td>141.909091</td>\n      <td>25.636364</td>\n      <td>35682.000000</td>\n      <td>1243.333333</td>\n    </tr>\n  </tbody>\n</table>\n</div>"
     },
     "execution_count": 14,
     "metadata": {},
     "output_type": "execute_result"
    }
   ],
   "source": [
    "X_train_scaled = scaler.fit_transform(X_train)\n",
    "X_train.describe()"
   ],
   "metadata": {
    "collapsed": false,
    "pycharm": {
     "name": "#%%\n"
    }
   }
  },
  {
   "cell_type": "code",
   "execution_count": 15,
   "outputs": [
    {
     "data": {
      "text/plain": "             MedInc      HouseAge      AveRooms     AveBedrms    Population  \\\ncount  16512.000000  16512.000000  16512.000000  16512.000000  16512.000000   \nmean       0.233159      0.541339      0.032239      0.030168      0.039896   \nstd        0.131329      0.247108      0.016929      0.017121      0.031869   \nmin        0.000000      0.000000      0.000000      0.000000      0.000000   \n25%        0.142536      0.333333      0.025267      0.026604      0.022030   \n50%        0.210059      0.549020      0.030825      0.028295      0.032624   \n75%        0.294705      0.705882      0.036677      0.030313      0.048292   \nmax        1.000000      1.000000      1.000000      1.000000      1.000000   \n\n           AveOccup  \ncount  16512.000000  \nmean       0.001935  \nstd        0.009318  \nmin        0.000000  \n25%        0.001397  \n50%        0.001710  \n75%        0.002082  \nmax        1.000000  ",
      "text/html": "<div>\n<style scoped>\n    .dataframe tbody tr th:only-of-type {\n        vertical-align: middle;\n    }\n\n    .dataframe tbody tr th {\n        vertical-align: top;\n    }\n\n    .dataframe thead th {\n        text-align: right;\n    }\n</style>\n<table border=\"1\" class=\"dataframe\">\n  <thead>\n    <tr style=\"text-align: right;\">\n      <th></th>\n      <th>MedInc</th>\n      <th>HouseAge</th>\n      <th>AveRooms</th>\n      <th>AveBedrms</th>\n      <th>Population</th>\n      <th>AveOccup</th>\n    </tr>\n  </thead>\n  <tbody>\n    <tr>\n      <th>count</th>\n      <td>16512.000000</td>\n      <td>16512.000000</td>\n      <td>16512.000000</td>\n      <td>16512.000000</td>\n      <td>16512.000000</td>\n      <td>16512.000000</td>\n    </tr>\n    <tr>\n      <th>mean</th>\n      <td>0.233159</td>\n      <td>0.541339</td>\n      <td>0.032239</td>\n      <td>0.030168</td>\n      <td>0.039896</td>\n      <td>0.001935</td>\n    </tr>\n    <tr>\n      <th>std</th>\n      <td>0.131329</td>\n      <td>0.247108</td>\n      <td>0.016929</td>\n      <td>0.017121</td>\n      <td>0.031869</td>\n      <td>0.009318</td>\n    </tr>\n    <tr>\n      <th>min</th>\n      <td>0.000000</td>\n      <td>0.000000</td>\n      <td>0.000000</td>\n      <td>0.000000</td>\n      <td>0.000000</td>\n      <td>0.000000</td>\n    </tr>\n    <tr>\n      <th>25%</th>\n      <td>0.142536</td>\n      <td>0.333333</td>\n      <td>0.025267</td>\n      <td>0.026604</td>\n      <td>0.022030</td>\n      <td>0.001397</td>\n    </tr>\n    <tr>\n      <th>50%</th>\n      <td>0.210059</td>\n      <td>0.549020</td>\n      <td>0.030825</td>\n      <td>0.028295</td>\n      <td>0.032624</td>\n      <td>0.001710</td>\n    </tr>\n    <tr>\n      <th>75%</th>\n      <td>0.294705</td>\n      <td>0.705882</td>\n      <td>0.036677</td>\n      <td>0.030313</td>\n      <td>0.048292</td>\n      <td>0.002082</td>\n    </tr>\n    <tr>\n      <th>max</th>\n      <td>1.000000</td>\n      <td>1.000000</td>\n      <td>1.000000</td>\n      <td>1.000000</td>\n      <td>1.000000</td>\n      <td>1.000000</td>\n    </tr>\n  </tbody>\n</table>\n</div>"
     },
     "execution_count": 15,
     "metadata": {},
     "output_type": "execute_result"
    }
   ],
   "source": [
    "# the result is returned as a numpy array, so let's convert it again to a Pandas Df\n",
    "X_train_scaled = pd.DataFrame(X_train_scaled, columns=X_train.columns)\n",
    "X_train_scaled.describe()"
   ],
   "metadata": {
    "collapsed": false,
    "pycharm": {
     "name": "#%%\n"
    }
   }
  },
  {
   "cell_type": "code",
   "execution_count": 16,
   "outputs": [
    {
     "data": {
      "text/plain": "LinearRegression()",
      "text/html": "<style>#sk-container-id-1 {color: black;background-color: white;}#sk-container-id-1 pre{padding: 0;}#sk-container-id-1 div.sk-toggleable {background-color: white;}#sk-container-id-1 label.sk-toggleable__label {cursor: pointer;display: block;width: 100%;margin-bottom: 0;padding: 0.3em;box-sizing: border-box;text-align: center;}#sk-container-id-1 label.sk-toggleable__label-arrow:before {content: \"▸\";float: left;margin-right: 0.25em;color: #696969;}#sk-container-id-1 label.sk-toggleable__label-arrow:hover:before {color: black;}#sk-container-id-1 div.sk-estimator:hover label.sk-toggleable__label-arrow:before {color: black;}#sk-container-id-1 div.sk-toggleable__content {max-height: 0;max-width: 0;overflow: hidden;text-align: left;background-color: #f0f8ff;}#sk-container-id-1 div.sk-toggleable__content pre {margin: 0.2em;color: black;border-radius: 0.25em;background-color: #f0f8ff;}#sk-container-id-1 input.sk-toggleable__control:checked~div.sk-toggleable__content {max-height: 200px;max-width: 100%;overflow: auto;}#sk-container-id-1 input.sk-toggleable__control:checked~label.sk-toggleable__label-arrow:before {content: \"▾\";}#sk-container-id-1 div.sk-estimator input.sk-toggleable__control:checked~label.sk-toggleable__label {background-color: #d4ebff;}#sk-container-id-1 div.sk-label input.sk-toggleable__control:checked~label.sk-toggleable__label {background-color: #d4ebff;}#sk-container-id-1 input.sk-hidden--visually {border: 0;clip: rect(1px 1px 1px 1px);clip: rect(1px, 1px, 1px, 1px);height: 1px;margin: -1px;overflow: hidden;padding: 0;position: absolute;width: 1px;}#sk-container-id-1 div.sk-estimator {font-family: monospace;background-color: #f0f8ff;border: 1px dotted black;border-radius: 0.25em;box-sizing: border-box;margin-bottom: 0.5em;}#sk-container-id-1 div.sk-estimator:hover {background-color: #d4ebff;}#sk-container-id-1 div.sk-parallel-item::after {content: \"\";width: 100%;border-bottom: 1px solid gray;flex-grow: 1;}#sk-container-id-1 div.sk-label:hover label.sk-toggleable__label {background-color: #d4ebff;}#sk-container-id-1 div.sk-serial::before {content: \"\";position: absolute;border-left: 1px solid gray;box-sizing: border-box;top: 0;bottom: 0;left: 50%;z-index: 0;}#sk-container-id-1 div.sk-serial {display: flex;flex-direction: column;align-items: center;background-color: white;padding-right: 0.2em;padding-left: 0.2em;position: relative;}#sk-container-id-1 div.sk-item {position: relative;z-index: 1;}#sk-container-id-1 div.sk-parallel {display: flex;align-items: stretch;justify-content: center;background-color: white;position: relative;}#sk-container-id-1 div.sk-item::before, #sk-container-id-1 div.sk-parallel-item::before {content: \"\";position: absolute;border-left: 1px solid gray;box-sizing: border-box;top: 0;bottom: 0;left: 50%;z-index: -1;}#sk-container-id-1 div.sk-parallel-item {display: flex;flex-direction: column;z-index: 1;position: relative;background-color: white;}#sk-container-id-1 div.sk-parallel-item:first-child::after {align-self: flex-end;width: 50%;}#sk-container-id-1 div.sk-parallel-item:last-child::after {align-self: flex-start;width: 50%;}#sk-container-id-1 div.sk-parallel-item:only-child::after {width: 0;}#sk-container-id-1 div.sk-dashed-wrapped {border: 1px dashed gray;margin: 0 0.4em 0.5em 0.4em;box-sizing: border-box;padding-bottom: 0.4em;background-color: white;}#sk-container-id-1 div.sk-label label {font-family: monospace;font-weight: bold;display: inline-block;line-height: 1.2em;}#sk-container-id-1 div.sk-label-container {text-align: center;}#sk-container-id-1 div.sk-container {/* jupyter's `normalize.less` sets `[hidden] { display: none; }` but bootstrap.min.css set `[hidden] { display: none !important; }` so we also need the `!important` here to be able to override the default hidden behavior on the sphinx rendered scikit-learn.org. See: https://github.com/scikit-learn/scikit-learn/issues/21755 */display: inline-block !important;position: relative;}#sk-container-id-1 div.sk-text-repr-fallback {display: none;}</style><div id=\"sk-container-id-1\" class=\"sk-top-container\"><div class=\"sk-text-repr-fallback\"><pre>LinearRegression()</pre><b>In a Jupyter environment, please rerun this cell to show the HTML representation or trust the notebook. <br />On GitHub, the HTML representation is unable to render, please try loading this page with nbviewer.org.</b></div><div class=\"sk-container\" hidden><div class=\"sk-item\"><div class=\"sk-estimator sk-toggleable\"><input class=\"sk-toggleable__control sk-hidden--visually\" id=\"sk-estimator-id-1\" type=\"checkbox\" checked><label for=\"sk-estimator-id-1\" class=\"sk-toggleable__label sk-toggleable__label-arrow\">LinearRegression</label><div class=\"sk-toggleable__content\"><pre>LinearRegression()</pre></div></div></div></div></div>"
     },
     "execution_count": 16,
     "metadata": {},
     "output_type": "execute_result"
    }
   ],
   "source": [
    "from sklearn.linear_model import LinearRegression\n",
    "model = LinearRegression(fit_intercept=True)\n",
    "model"
   ],
   "metadata": {
    "collapsed": false,
    "pycharm": {
     "name": "#%%\n"
    }
   }
  },
  {
   "cell_type": "code",
   "execution_count": 17,
   "outputs": [
    {
     "data": {
      "text/plain": "LinearRegression()",
      "text/html": "<style>#sk-container-id-2 {color: black;background-color: white;}#sk-container-id-2 pre{padding: 0;}#sk-container-id-2 div.sk-toggleable {background-color: white;}#sk-container-id-2 label.sk-toggleable__label {cursor: pointer;display: block;width: 100%;margin-bottom: 0;padding: 0.3em;box-sizing: border-box;text-align: center;}#sk-container-id-2 label.sk-toggleable__label-arrow:before {content: \"▸\";float: left;margin-right: 0.25em;color: #696969;}#sk-container-id-2 label.sk-toggleable__label-arrow:hover:before {color: black;}#sk-container-id-2 div.sk-estimator:hover label.sk-toggleable__label-arrow:before {color: black;}#sk-container-id-2 div.sk-toggleable__content {max-height: 0;max-width: 0;overflow: hidden;text-align: left;background-color: #f0f8ff;}#sk-container-id-2 div.sk-toggleable__content pre {margin: 0.2em;color: black;border-radius: 0.25em;background-color: #f0f8ff;}#sk-container-id-2 input.sk-toggleable__control:checked~div.sk-toggleable__content {max-height: 200px;max-width: 100%;overflow: auto;}#sk-container-id-2 input.sk-toggleable__control:checked~label.sk-toggleable__label-arrow:before {content: \"▾\";}#sk-container-id-2 div.sk-estimator input.sk-toggleable__control:checked~label.sk-toggleable__label {background-color: #d4ebff;}#sk-container-id-2 div.sk-label input.sk-toggleable__control:checked~label.sk-toggleable__label {background-color: #d4ebff;}#sk-container-id-2 input.sk-hidden--visually {border: 0;clip: rect(1px 1px 1px 1px);clip: rect(1px, 1px, 1px, 1px);height: 1px;margin: -1px;overflow: hidden;padding: 0;position: absolute;width: 1px;}#sk-container-id-2 div.sk-estimator {font-family: monospace;background-color: #f0f8ff;border: 1px dotted black;border-radius: 0.25em;box-sizing: border-box;margin-bottom: 0.5em;}#sk-container-id-2 div.sk-estimator:hover {background-color: #d4ebff;}#sk-container-id-2 div.sk-parallel-item::after {content: \"\";width: 100%;border-bottom: 1px solid gray;flex-grow: 1;}#sk-container-id-2 div.sk-label:hover label.sk-toggleable__label {background-color: #d4ebff;}#sk-container-id-2 div.sk-serial::before {content: \"\";position: absolute;border-left: 1px solid gray;box-sizing: border-box;top: 0;bottom: 0;left: 50%;z-index: 0;}#sk-container-id-2 div.sk-serial {display: flex;flex-direction: column;align-items: center;background-color: white;padding-right: 0.2em;padding-left: 0.2em;position: relative;}#sk-container-id-2 div.sk-item {position: relative;z-index: 1;}#sk-container-id-2 div.sk-parallel {display: flex;align-items: stretch;justify-content: center;background-color: white;position: relative;}#sk-container-id-2 div.sk-item::before, #sk-container-id-2 div.sk-parallel-item::before {content: \"\";position: absolute;border-left: 1px solid gray;box-sizing: border-box;top: 0;bottom: 0;left: 50%;z-index: -1;}#sk-container-id-2 div.sk-parallel-item {display: flex;flex-direction: column;z-index: 1;position: relative;background-color: white;}#sk-container-id-2 div.sk-parallel-item:first-child::after {align-self: flex-end;width: 50%;}#sk-container-id-2 div.sk-parallel-item:last-child::after {align-self: flex-start;width: 50%;}#sk-container-id-2 div.sk-parallel-item:only-child::after {width: 0;}#sk-container-id-2 div.sk-dashed-wrapped {border: 1px dashed gray;margin: 0 0.4em 0.5em 0.4em;box-sizing: border-box;padding-bottom: 0.4em;background-color: white;}#sk-container-id-2 div.sk-label label {font-family: monospace;font-weight: bold;display: inline-block;line-height: 1.2em;}#sk-container-id-2 div.sk-label-container {text-align: center;}#sk-container-id-2 div.sk-container {/* jupyter's `normalize.less` sets `[hidden] { display: none; }` but bootstrap.min.css set `[hidden] { display: none !important; }` so we also need the `!important` here to be able to override the default hidden behavior on the sphinx rendered scikit-learn.org. See: https://github.com/scikit-learn/scikit-learn/issues/21755 */display: inline-block !important;position: relative;}#sk-container-id-2 div.sk-text-repr-fallback {display: none;}</style><div id=\"sk-container-id-2\" class=\"sk-top-container\"><div class=\"sk-text-repr-fallback\"><pre>LinearRegression()</pre><b>In a Jupyter environment, please rerun this cell to show the HTML representation or trust the notebook. <br />On GitHub, the HTML representation is unable to render, please try loading this page with nbviewer.org.</b></div><div class=\"sk-container\" hidden><div class=\"sk-item\"><div class=\"sk-estimator sk-toggleable\"><input class=\"sk-toggleable__control sk-hidden--visually\" id=\"sk-estimator-id-2\" type=\"checkbox\" checked><label for=\"sk-estimator-id-2\" class=\"sk-toggleable__label sk-toggleable__label-arrow\">LinearRegression</label><div class=\"sk-toggleable__content\"><pre>LinearRegression()</pre></div></div></div></div></div>"
     },
     "execution_count": 17,
     "metadata": {},
     "output_type": "execute_result"
    }
   ],
   "source": [
    "model.fit(X_train_scaled, y_train)"
   ],
   "metadata": {
    "collapsed": false,
    "pycharm": {
     "name": "#%%\n"
    }
   }
  },
  {
   "cell_type": "code",
   "execution_count": 18,
   "outputs": [
    {
     "data": {
      "text/plain": "array([  7.91944053,   0.85618336, -31.57723574,  28.22534335,\n         0.82658243,  -5.73880374])"
     },
     "execution_count": 18,
     "metadata": {},
     "output_type": "execute_result"
    }
   ],
   "source": [
    "model.coef_"
   ],
   "metadata": {
    "collapsed": false,
    "pycharm": {
     "name": "#%%\n"
    }
   }
  },
  {
   "cell_type": "code",
   "execution_count": 19,
   "outputs": [
    {
     "data": {
      "text/plain": "-0.09339589714919061"
     },
     "execution_count": 19,
     "metadata": {},
     "output_type": "execute_result"
    }
   ],
   "source": [
    "model.intercept_"
   ],
   "metadata": {
    "collapsed": false,
    "pycharm": {
     "name": "#%%\n"
    }
   }
  },
  {
   "cell_type": "markdown",
   "source": [
    "### Question 1 - What are the  R<sup>2</sup>  metrics for train and test?"
   ],
   "metadata": {
    "collapsed": false,
    "pycharm": {
     "name": "#%% md\n"
    }
   }
  },
  {
   "cell_type": "code",
   "execution_count": 20,
   "outputs": [
    {
     "data": {
      "text/plain": "0.5459161602818385"
     },
     "execution_count": 20,
     "metadata": {},
     "output_type": "execute_result"
    }
   ],
   "source": [
    "model.score(X_train_scaled, y_train)"
   ],
   "metadata": {
    "collapsed": false,
    "pycharm": {
     "name": "#%%\n"
    }
   }
  },
  {
   "cell_type": "code",
   "execution_count": 21,
   "outputs": [
    {
     "data": {
      "text/plain": "            MedInc     HouseAge     AveRooms    AveBedrms   Population  \\\ncount  4128.000000  4128.000000  4128.000000  4128.000000  4128.000000   \nmean      0.229682     0.544398     0.032018     0.030166     0.039759   \nstd       0.129758     0.245457     0.019818     0.024116     0.031223   \nmin       0.000000     0.000000    -0.000303     0.006587     0.000140   \n25%       0.141281     0.333333     0.024874     0.026519     0.021806   \n50%       0.206901     0.549020     0.030520     0.028194     0.032428   \n75%       0.285929     0.705882     0.036307     0.030138     0.048180   \nmax       1.000000     1.000000     0.933515     1.333174     0.451778   \n\n          AveOccup  \ncount  4128.000000  \nmean      0.001829  \nstd       0.001411  \nmin       0.000460  \n25%       0.001403  \n50%       0.001715  \n75%       0.002090  \nmax       0.066374  ",
      "text/html": "<div>\n<style scoped>\n    .dataframe tbody tr th:only-of-type {\n        vertical-align: middle;\n    }\n\n    .dataframe tbody tr th {\n        vertical-align: top;\n    }\n\n    .dataframe thead th {\n        text-align: right;\n    }\n</style>\n<table border=\"1\" class=\"dataframe\">\n  <thead>\n    <tr style=\"text-align: right;\">\n      <th></th>\n      <th>MedInc</th>\n      <th>HouseAge</th>\n      <th>AveRooms</th>\n      <th>AveBedrms</th>\n      <th>Population</th>\n      <th>AveOccup</th>\n    </tr>\n  </thead>\n  <tbody>\n    <tr>\n      <th>count</th>\n      <td>4128.000000</td>\n      <td>4128.000000</td>\n      <td>4128.000000</td>\n      <td>4128.000000</td>\n      <td>4128.000000</td>\n      <td>4128.000000</td>\n    </tr>\n    <tr>\n      <th>mean</th>\n      <td>0.229682</td>\n      <td>0.544398</td>\n      <td>0.032018</td>\n      <td>0.030166</td>\n      <td>0.039759</td>\n      <td>0.001829</td>\n    </tr>\n    <tr>\n      <th>std</th>\n      <td>0.129758</td>\n      <td>0.245457</td>\n      <td>0.019818</td>\n      <td>0.024116</td>\n      <td>0.031223</td>\n      <td>0.001411</td>\n    </tr>\n    <tr>\n      <th>min</th>\n      <td>0.000000</td>\n      <td>0.000000</td>\n      <td>-0.000303</td>\n      <td>0.006587</td>\n      <td>0.000140</td>\n      <td>0.000460</td>\n    </tr>\n    <tr>\n      <th>25%</th>\n      <td>0.141281</td>\n      <td>0.333333</td>\n      <td>0.024874</td>\n      <td>0.026519</td>\n      <td>0.021806</td>\n      <td>0.001403</td>\n    </tr>\n    <tr>\n      <th>50%</th>\n      <td>0.206901</td>\n      <td>0.549020</td>\n      <td>0.030520</td>\n      <td>0.028194</td>\n      <td>0.032428</td>\n      <td>0.001715</td>\n    </tr>\n    <tr>\n      <th>75%</th>\n      <td>0.285929</td>\n      <td>0.705882</td>\n      <td>0.036307</td>\n      <td>0.030138</td>\n      <td>0.048180</td>\n      <td>0.002090</td>\n    </tr>\n    <tr>\n      <th>max</th>\n      <td>1.000000</td>\n      <td>1.000000</td>\n      <td>0.933515</td>\n      <td>1.333174</td>\n      <td>0.451778</td>\n      <td>0.066374</td>\n    </tr>\n  </tbody>\n</table>\n</div>"
     },
     "execution_count": 21,
     "metadata": {},
     "output_type": "execute_result"
    }
   ],
   "source": [
    "X_test_scaled = scaler.transform(X_test)\n",
    "X_test_scaled = pd.DataFrame(X_test_scaled, columns=X_test.columns)\n",
    "X_test_scaled.describe()\n",
    "#Standard scaling transform on test dataset is making the values negative. Will repeat with MinMaxScaler\n",
    "#Successfully completed with MinMaxScaler"
   ],
   "metadata": {
    "collapsed": false,
    "pycharm": {
     "name": "#%%\n"
    }
   }
  },
  {
   "cell_type": "code",
   "execution_count": 22,
   "outputs": [
    {
     "data": {
      "text/plain": "0.5099337366296424"
     },
     "execution_count": 22,
     "metadata": {},
     "output_type": "execute_result"
    }
   ],
   "source": [
    "model.score(X_test_scaled, y_test)"
   ],
   "metadata": {
    "collapsed": false,
    "pycharm": {
     "name": "#%%\n"
    }
   }
  },
  {
   "cell_type": "markdown",
   "source": [
    "### Question 2\n",
    "Imagine that me and my wife, we want to sell our house in 528-426 W Scott Ave Clovis, CA 93612 but we have no idea about the price. Our house is 30 years old, with 6 rooms and 3 bedrooms. In our geographic block group we are 300 people. Our income is 60K."
   ],
   "metadata": {
    "collapsed": false,
    "pycharm": {
     "name": "#%% md\n"
    }
   }
  },
  {
   "cell_type": "code",
   "execution_count": 23,
   "outputs": [
    {
     "data": {
      "text/plain": "   MedInc  HouseAge  AveRooms  AveBedrms  Population  AveOccup\n0       6        30         6          3         300         2",
      "text/html": "<div>\n<style scoped>\n    .dataframe tbody tr th:only-of-type {\n        vertical-align: middle;\n    }\n\n    .dataframe tbody tr th {\n        vertical-align: top;\n    }\n\n    .dataframe thead th {\n        text-align: right;\n    }\n</style>\n<table border=\"1\" class=\"dataframe\">\n  <thead>\n    <tr style=\"text-align: right;\">\n      <th></th>\n      <th>MedInc</th>\n      <th>HouseAge</th>\n      <th>AveRooms</th>\n      <th>AveBedrms</th>\n      <th>Population</th>\n      <th>AveOccup</th>\n    </tr>\n  </thead>\n  <tbody>\n    <tr>\n      <th>0</th>\n      <td>6</td>\n      <td>30</td>\n      <td>6</td>\n      <td>3</td>\n      <td>300</td>\n      <td>2</td>\n    </tr>\n  </tbody>\n</table>\n</div>"
     },
     "execution_count": 23,
     "metadata": {},
     "output_type": "execute_result"
    }
   ],
   "source": [
    "my_house = pd.DataFrame(\n",
    "    [[6, 30, 6, 3, 300, 2]],\n",
    "    #60k as 6 because max MedInc is 15 so it seems to be in 10000s\n",
    "    #Average house occupancy is considered to be 2: \"Me and my wife\"\n",
    "    columns=[\"MedInc\", \"HouseAge\", \"AveRooms\", \"AveBedrms\", \"Population\",\"AveOccup\"])\n",
    "my_house"
   ],
   "metadata": {
    "collapsed": false,
    "pycharm": {
     "name": "#%%\n"
    }
   }
  },
  {
   "cell_type": "code",
   "execution_count": 24,
   "outputs": [
    {
     "name": "stdout",
     "output_type": "stream",
     "text": [
      "Estimated price for my house is: 5.22840104899342 \n"
     ]
    }
   ],
   "source": [
    "my_house_scaled = scaler.transform(my_house)\n",
    "my_house_scaled = pd.DataFrame(my_house_scaled, columns=my_house.columns)\n",
    "my_house_est_price = model.predict(my_house_scaled)\n",
    "print(f\"Estimated price for my house is: {my_house_est_price[0]} \")"
   ],
   "metadata": {
    "collapsed": false,
    "pycharm": {
     "name": "#%%\n"
    }
   }
  },
  {
   "cell_type": "markdown",
   "source": [
    "## PART 2\n",
    "Repeat the process, but now include new three variables called distance2SF, distance2SJ and distance2SD containing the distance from each area to San Francisco, San Jose and San Diego, respectively, in Km.\n"
   ],
   "metadata": {
    "collapsed": false,
    "pycharm": {
     "name": "#%% md\n"
    }
   }
  },
  {
   "cell_type": "code",
   "execution_count": 25,
   "outputs": [],
   "source": [
    "from geopy.distance import geodesic #geopy distance uses geodesic to calculate the distance"
   ],
   "metadata": {
    "collapsed": false,
    "pycharm": {
     "name": "#%%\n"
    }
   }
  },
  {
   "cell_type": "code",
   "execution_count": 26,
   "outputs": [],
   "source": [
    "#San Francisco\n",
    "SF = (37.7749, 122.4194)\n",
    "\n",
    "#San Jose\n",
    "SJ = (37.3382, 121.8863)\n",
    "\n",
    "#San Diego\n",
    "SD = (32.7157, 117.1611)"
   ],
   "metadata": {
    "collapsed": false,
    "pycharm": {
     "name": "#%%\n"
    }
   }
  },
  {
   "cell_type": "code",
   "execution_count": 27,
   "outputs": [],
   "source": [
    "X1 = pd.DataFrame(california_housing[\"data\"], columns=california_housing[\"feature_names\"])"
   ],
   "metadata": {
    "collapsed": false,
    "pycharm": {
     "name": "#%%\n"
    }
   }
  },
  {
   "cell_type": "code",
   "execution_count": 28,
   "outputs": [],
   "source": [
    "distances = []\n",
    "for i in range(len(X1)):\n",
    "    distances.append(geodesic((X1[\"Latitude\"][i], X1[\"Longitude\"][i]), SF).km)"
   ],
   "metadata": {
    "collapsed": false,
    "pycharm": {
     "name": "#%%\n"
    }
   }
  },
  {
   "cell_type": "code",
   "execution_count": 29,
   "outputs": [],
   "source": [
    "X1[\"distance2SF\"] = distances"
   ],
   "metadata": {
    "collapsed": false,
    "pycharm": {
     "name": "#%%\n"
    }
   }
  },
  {
   "cell_type": "code",
   "execution_count": 30,
   "outputs": [],
   "source": [
    "distances = []\n",
    "for i in range(len(X1)):\n",
    "    distances.append(geodesic((X1[\"Latitude\"][i], X1[\"Longitude\"][i]), SJ).km)"
   ],
   "metadata": {
    "collapsed": false,
    "pycharm": {
     "name": "#%%\n"
    }
   }
  },
  {
   "cell_type": "code",
   "execution_count": 31,
   "outputs": [],
   "source": [
    "X1[\"distance2SJ\"] = distances"
   ],
   "metadata": {
    "collapsed": false,
    "pycharm": {
     "name": "#%%\n"
    }
   }
  },
  {
   "cell_type": "code",
   "execution_count": 32,
   "outputs": [],
   "source": [
    "distances = []\n",
    "for i in range(len(X1)):\n",
    "    distances.append(geodesic((X1[\"Latitude\"][i], X1[\"Longitude\"][i]), SD).km)"
   ],
   "metadata": {
    "collapsed": false,
    "pycharm": {
     "name": "#%%\n"
    }
   }
  },
  {
   "cell_type": "code",
   "execution_count": 33,
   "outputs": [],
   "source": [
    "X1[\"distance2SD\"] = distances"
   ],
   "metadata": {
    "collapsed": false,
    "pycharm": {
     "name": "#%%\n"
    }
   }
  },
  {
   "cell_type": "code",
   "execution_count": 34,
   "outputs": [],
   "source": [
    "X1 = X1.drop(['Latitude','Longitude'], axis=1)"
   ],
   "metadata": {
    "collapsed": false,
    "pycharm": {
     "name": "#%%\n"
    }
   }
  },
  {
   "cell_type": "code",
   "execution_count": 35,
   "outputs": [],
   "source": [
    "X1_train, X1_test, y1_train, y1_test = train_test_split(\n",
    "    X1, y,\n",
    "    test_size=0.2,\n",
    "    random_state=62)"
   ],
   "metadata": {
    "collapsed": false,
    "pycharm": {
     "name": "#%%\n"
    }
   }
  },
  {
   "cell_type": "code",
   "execution_count": 36,
   "outputs": [
    {
     "data": {
      "text/plain": "             MedInc      HouseAge      AveRooms     AveBedrms    Population  \\\ncount  16512.000000  16512.000000  16512.000000  16512.000000  16512.000000   \nmean       3.873649     28.711301      5.428209      1.096125   1431.211059   \nstd        1.888930     12.605095      2.317701      0.458069   1141.317282   \nmin        0.499900      1.000000      0.846154      0.333333      3.000000   \n25%        2.566400     18.000000      4.439580      1.006179    793.000000   \n50%        3.538200     29.000000      5.236690      1.048829   1171.000000   \n75%        4.756900     37.000000      6.058824      1.099415   1731.000000   \nmax       15.000100     52.000000    132.533333     34.066667  35682.000000   \n\n           AveOccup   distance2SF   distance2SJ   distance2SD  \ncount  16512.000000  16512.000000  16512.000000  16512.000000  \nmean       3.096228   9677.499901   9745.058802  10413.120973  \nstd       11.581581    290.080287    290.072214    289.803456  \nmin        0.692308   8902.710472   8970.296044   9639.595263  \n25%        2.430995   9365.289284   9432.851750  10100.935019  \n50%        2.816122   9852.557559   9920.107131  10587.831394  \n75%        3.282376   9911.648848   9979.206020  10647.138604  \nmax     1243.333333  10222.362356  10289.946975  10958.823585  ",
      "text/html": "<div>\n<style scoped>\n    .dataframe tbody tr th:only-of-type {\n        vertical-align: middle;\n    }\n\n    .dataframe tbody tr th {\n        vertical-align: top;\n    }\n\n    .dataframe thead th {\n        text-align: right;\n    }\n</style>\n<table border=\"1\" class=\"dataframe\">\n  <thead>\n    <tr style=\"text-align: right;\">\n      <th></th>\n      <th>MedInc</th>\n      <th>HouseAge</th>\n      <th>AveRooms</th>\n      <th>AveBedrms</th>\n      <th>Population</th>\n      <th>AveOccup</th>\n      <th>distance2SF</th>\n      <th>distance2SJ</th>\n      <th>distance2SD</th>\n    </tr>\n  </thead>\n  <tbody>\n    <tr>\n      <th>count</th>\n      <td>16512.000000</td>\n      <td>16512.000000</td>\n      <td>16512.000000</td>\n      <td>16512.000000</td>\n      <td>16512.000000</td>\n      <td>16512.000000</td>\n      <td>16512.000000</td>\n      <td>16512.000000</td>\n      <td>16512.000000</td>\n    </tr>\n    <tr>\n      <th>mean</th>\n      <td>3.873649</td>\n      <td>28.711301</td>\n      <td>5.428209</td>\n      <td>1.096125</td>\n      <td>1431.211059</td>\n      <td>3.096228</td>\n      <td>9677.499901</td>\n      <td>9745.058802</td>\n      <td>10413.120973</td>\n    </tr>\n    <tr>\n      <th>std</th>\n      <td>1.888930</td>\n      <td>12.605095</td>\n      <td>2.317701</td>\n      <td>0.458069</td>\n      <td>1141.317282</td>\n      <td>11.581581</td>\n      <td>290.080287</td>\n      <td>290.072214</td>\n      <td>289.803456</td>\n    </tr>\n    <tr>\n      <th>min</th>\n      <td>0.499900</td>\n      <td>1.000000</td>\n      <td>0.846154</td>\n      <td>0.333333</td>\n      <td>3.000000</td>\n      <td>0.692308</td>\n      <td>8902.710472</td>\n      <td>8970.296044</td>\n      <td>9639.595263</td>\n    </tr>\n    <tr>\n      <th>25%</th>\n      <td>2.566400</td>\n      <td>18.000000</td>\n      <td>4.439580</td>\n      <td>1.006179</td>\n      <td>793.000000</td>\n      <td>2.430995</td>\n      <td>9365.289284</td>\n      <td>9432.851750</td>\n      <td>10100.935019</td>\n    </tr>\n    <tr>\n      <th>50%</th>\n      <td>3.538200</td>\n      <td>29.000000</td>\n      <td>5.236690</td>\n      <td>1.048829</td>\n      <td>1171.000000</td>\n      <td>2.816122</td>\n      <td>9852.557559</td>\n      <td>9920.107131</td>\n      <td>10587.831394</td>\n    </tr>\n    <tr>\n      <th>75%</th>\n      <td>4.756900</td>\n      <td>37.000000</td>\n      <td>6.058824</td>\n      <td>1.099415</td>\n      <td>1731.000000</td>\n      <td>3.282376</td>\n      <td>9911.648848</td>\n      <td>9979.206020</td>\n      <td>10647.138604</td>\n    </tr>\n    <tr>\n      <th>max</th>\n      <td>15.000100</td>\n      <td>52.000000</td>\n      <td>132.533333</td>\n      <td>34.066667</td>\n      <td>35682.000000</td>\n      <td>1243.333333</td>\n      <td>10222.362356</td>\n      <td>10289.946975</td>\n      <td>10958.823585</td>\n    </tr>\n  </tbody>\n</table>\n</div>"
     },
     "execution_count": 36,
     "metadata": {},
     "output_type": "execute_result"
    }
   ],
   "source": [
    "X1_train.describe()"
   ],
   "metadata": {
    "collapsed": false,
    "pycharm": {
     "name": "#%%\n"
    }
   }
  },
  {
   "cell_type": "code",
   "execution_count": 37,
   "outputs": [
    {
     "data": {
      "text/plain": "             MedInc      HouseAge      AveRooms     AveBedrms    Population  \\\ncount  16512.000000  16512.000000  16512.000000  16512.000000  16512.000000   \nmean       0.232669      0.543359      0.034795      0.022612      0.040029   \nstd        0.130269      0.247159      0.017600      0.013579      0.031988   \nmin        0.000000      0.000000      0.000000      0.000000      0.000000   \n25%        0.142515      0.333333      0.027288      0.019946      0.022142   \n50%        0.209535      0.549020      0.033341      0.021210      0.032736   \n75%        0.293582      0.705882      0.039584      0.022710      0.048432   \nmax        1.000000      1.000000      1.000000      1.000000      1.000000   \n\n           AveOccup   distance2SF   distance2SJ   distance2SD  \ncount  16512.000000  16512.000000  16512.000000  16512.000000  \nmean       0.001935      0.587117      0.587097      0.586347  \nstd        0.009320      0.219816      0.219810      0.219676  \nmin        0.000000      0.000000      0.000000      0.000000  \n25%        0.001399      0.350531      0.350514      0.349704  \n50%        0.001709      0.719771      0.719744      0.718781  \n75%        0.002084      0.764549      0.764528      0.763737  \nmax        1.000000      1.000000      1.000000      1.000000  ",
      "text/html": "<div>\n<style scoped>\n    .dataframe tbody tr th:only-of-type {\n        vertical-align: middle;\n    }\n\n    .dataframe tbody tr th {\n        vertical-align: top;\n    }\n\n    .dataframe thead th {\n        text-align: right;\n    }\n</style>\n<table border=\"1\" class=\"dataframe\">\n  <thead>\n    <tr style=\"text-align: right;\">\n      <th></th>\n      <th>MedInc</th>\n      <th>HouseAge</th>\n      <th>AveRooms</th>\n      <th>AveBedrms</th>\n      <th>Population</th>\n      <th>AveOccup</th>\n      <th>distance2SF</th>\n      <th>distance2SJ</th>\n      <th>distance2SD</th>\n    </tr>\n  </thead>\n  <tbody>\n    <tr>\n      <th>count</th>\n      <td>16512.000000</td>\n      <td>16512.000000</td>\n      <td>16512.000000</td>\n      <td>16512.000000</td>\n      <td>16512.000000</td>\n      <td>16512.000000</td>\n      <td>16512.000000</td>\n      <td>16512.000000</td>\n      <td>16512.000000</td>\n    </tr>\n    <tr>\n      <th>mean</th>\n      <td>0.232669</td>\n      <td>0.543359</td>\n      <td>0.034795</td>\n      <td>0.022612</td>\n      <td>0.040029</td>\n      <td>0.001935</td>\n      <td>0.587117</td>\n      <td>0.587097</td>\n      <td>0.586347</td>\n    </tr>\n    <tr>\n      <th>std</th>\n      <td>0.130269</td>\n      <td>0.247159</td>\n      <td>0.017600</td>\n      <td>0.013579</td>\n      <td>0.031988</td>\n      <td>0.009320</td>\n      <td>0.219816</td>\n      <td>0.219810</td>\n      <td>0.219676</td>\n    </tr>\n    <tr>\n      <th>min</th>\n      <td>0.000000</td>\n      <td>0.000000</td>\n      <td>0.000000</td>\n      <td>0.000000</td>\n      <td>0.000000</td>\n      <td>0.000000</td>\n      <td>0.000000</td>\n      <td>0.000000</td>\n      <td>0.000000</td>\n    </tr>\n    <tr>\n      <th>25%</th>\n      <td>0.142515</td>\n      <td>0.333333</td>\n      <td>0.027288</td>\n      <td>0.019946</td>\n      <td>0.022142</td>\n      <td>0.001399</td>\n      <td>0.350531</td>\n      <td>0.350514</td>\n      <td>0.349704</td>\n    </tr>\n    <tr>\n      <th>50%</th>\n      <td>0.209535</td>\n      <td>0.549020</td>\n      <td>0.033341</td>\n      <td>0.021210</td>\n      <td>0.032736</td>\n      <td>0.001709</td>\n      <td>0.719771</td>\n      <td>0.719744</td>\n      <td>0.718781</td>\n    </tr>\n    <tr>\n      <th>75%</th>\n      <td>0.293582</td>\n      <td>0.705882</td>\n      <td>0.039584</td>\n      <td>0.022710</td>\n      <td>0.048432</td>\n      <td>0.002084</td>\n      <td>0.764549</td>\n      <td>0.764528</td>\n      <td>0.763737</td>\n    </tr>\n    <tr>\n      <th>max</th>\n      <td>1.000000</td>\n      <td>1.000000</td>\n      <td>1.000000</td>\n      <td>1.000000</td>\n      <td>1.000000</td>\n      <td>1.000000</td>\n      <td>1.000000</td>\n      <td>1.000000</td>\n      <td>1.000000</td>\n    </tr>\n  </tbody>\n</table>\n</div>"
     },
     "execution_count": 37,
     "metadata": {},
     "output_type": "execute_result"
    }
   ],
   "source": [
    "X1_train_scaled = scaler.fit_transform(X1_train)\n",
    "X1_train_scaled = pd.DataFrame(X1_train_scaled, columns=X1_train.columns)\n",
    "X1_train_scaled.describe()"
   ],
   "metadata": {
    "collapsed": false,
    "pycharm": {
     "name": "#%%\n"
    }
   }
  },
  {
   "cell_type": "code",
   "execution_count": 38,
   "outputs": [
    {
     "data": {
      "text/plain": "LinearRegression()",
      "text/html": "<style>#sk-container-id-3 {color: black;background-color: white;}#sk-container-id-3 pre{padding: 0;}#sk-container-id-3 div.sk-toggleable {background-color: white;}#sk-container-id-3 label.sk-toggleable__label {cursor: pointer;display: block;width: 100%;margin-bottom: 0;padding: 0.3em;box-sizing: border-box;text-align: center;}#sk-container-id-3 label.sk-toggleable__label-arrow:before {content: \"▸\";float: left;margin-right: 0.25em;color: #696969;}#sk-container-id-3 label.sk-toggleable__label-arrow:hover:before {color: black;}#sk-container-id-3 div.sk-estimator:hover label.sk-toggleable__label-arrow:before {color: black;}#sk-container-id-3 div.sk-toggleable__content {max-height: 0;max-width: 0;overflow: hidden;text-align: left;background-color: #f0f8ff;}#sk-container-id-3 div.sk-toggleable__content pre {margin: 0.2em;color: black;border-radius: 0.25em;background-color: #f0f8ff;}#sk-container-id-3 input.sk-toggleable__control:checked~div.sk-toggleable__content {max-height: 200px;max-width: 100%;overflow: auto;}#sk-container-id-3 input.sk-toggleable__control:checked~label.sk-toggleable__label-arrow:before {content: \"▾\";}#sk-container-id-3 div.sk-estimator input.sk-toggleable__control:checked~label.sk-toggleable__label {background-color: #d4ebff;}#sk-container-id-3 div.sk-label input.sk-toggleable__control:checked~label.sk-toggleable__label {background-color: #d4ebff;}#sk-container-id-3 input.sk-hidden--visually {border: 0;clip: rect(1px 1px 1px 1px);clip: rect(1px, 1px, 1px, 1px);height: 1px;margin: -1px;overflow: hidden;padding: 0;position: absolute;width: 1px;}#sk-container-id-3 div.sk-estimator {font-family: monospace;background-color: #f0f8ff;border: 1px dotted black;border-radius: 0.25em;box-sizing: border-box;margin-bottom: 0.5em;}#sk-container-id-3 div.sk-estimator:hover {background-color: #d4ebff;}#sk-container-id-3 div.sk-parallel-item::after {content: \"\";width: 100%;border-bottom: 1px solid gray;flex-grow: 1;}#sk-container-id-3 div.sk-label:hover label.sk-toggleable__label {background-color: #d4ebff;}#sk-container-id-3 div.sk-serial::before {content: \"\";position: absolute;border-left: 1px solid gray;box-sizing: border-box;top: 0;bottom: 0;left: 50%;z-index: 0;}#sk-container-id-3 div.sk-serial {display: flex;flex-direction: column;align-items: center;background-color: white;padding-right: 0.2em;padding-left: 0.2em;position: relative;}#sk-container-id-3 div.sk-item {position: relative;z-index: 1;}#sk-container-id-3 div.sk-parallel {display: flex;align-items: stretch;justify-content: center;background-color: white;position: relative;}#sk-container-id-3 div.sk-item::before, #sk-container-id-3 div.sk-parallel-item::before {content: \"\";position: absolute;border-left: 1px solid gray;box-sizing: border-box;top: 0;bottom: 0;left: 50%;z-index: -1;}#sk-container-id-3 div.sk-parallel-item {display: flex;flex-direction: column;z-index: 1;position: relative;background-color: white;}#sk-container-id-3 div.sk-parallel-item:first-child::after {align-self: flex-end;width: 50%;}#sk-container-id-3 div.sk-parallel-item:last-child::after {align-self: flex-start;width: 50%;}#sk-container-id-3 div.sk-parallel-item:only-child::after {width: 0;}#sk-container-id-3 div.sk-dashed-wrapped {border: 1px dashed gray;margin: 0 0.4em 0.5em 0.4em;box-sizing: border-box;padding-bottom: 0.4em;background-color: white;}#sk-container-id-3 div.sk-label label {font-family: monospace;font-weight: bold;display: inline-block;line-height: 1.2em;}#sk-container-id-3 div.sk-label-container {text-align: center;}#sk-container-id-3 div.sk-container {/* jupyter's `normalize.less` sets `[hidden] { display: none; }` but bootstrap.min.css set `[hidden] { display: none !important; }` so we also need the `!important` here to be able to override the default hidden behavior on the sphinx rendered scikit-learn.org. See: https://github.com/scikit-learn/scikit-learn/issues/21755 */display: inline-block !important;position: relative;}#sk-container-id-3 div.sk-text-repr-fallback {display: none;}</style><div id=\"sk-container-id-3\" class=\"sk-top-container\"><div class=\"sk-text-repr-fallback\"><pre>LinearRegression()</pre><b>In a Jupyter environment, please rerun this cell to show the HTML representation or trust the notebook. <br />On GitHub, the HTML representation is unable to render, please try loading this page with nbviewer.org.</b></div><div class=\"sk-container\" hidden><div class=\"sk-item\"><div class=\"sk-estimator sk-toggleable\"><input class=\"sk-toggleable__control sk-hidden--visually\" id=\"sk-estimator-id-3\" type=\"checkbox\" checked><label for=\"sk-estimator-id-3\" class=\"sk-toggleable__label sk-toggleable__label-arrow\">LinearRegression</label><div class=\"sk-toggleable__content\"><pre>LinearRegression()</pre></div></div></div></div></div>"
     },
     "execution_count": 38,
     "metadata": {},
     "output_type": "execute_result"
    }
   ],
   "source": [
    "model2 = LinearRegression(fit_intercept=True)\n",
    "model2"
   ],
   "metadata": {
    "collapsed": false,
    "pycharm": {
     "name": "#%%\n"
    }
   }
  },
  {
   "cell_type": "code",
   "execution_count": 39,
   "outputs": [
    {
     "data": {
      "text/plain": "LinearRegression()",
      "text/html": "<style>#sk-container-id-4 {color: black;background-color: white;}#sk-container-id-4 pre{padding: 0;}#sk-container-id-4 div.sk-toggleable {background-color: white;}#sk-container-id-4 label.sk-toggleable__label {cursor: pointer;display: block;width: 100%;margin-bottom: 0;padding: 0.3em;box-sizing: border-box;text-align: center;}#sk-container-id-4 label.sk-toggleable__label-arrow:before {content: \"▸\";float: left;margin-right: 0.25em;color: #696969;}#sk-container-id-4 label.sk-toggleable__label-arrow:hover:before {color: black;}#sk-container-id-4 div.sk-estimator:hover label.sk-toggleable__label-arrow:before {color: black;}#sk-container-id-4 div.sk-toggleable__content {max-height: 0;max-width: 0;overflow: hidden;text-align: left;background-color: #f0f8ff;}#sk-container-id-4 div.sk-toggleable__content pre {margin: 0.2em;color: black;border-radius: 0.25em;background-color: #f0f8ff;}#sk-container-id-4 input.sk-toggleable__control:checked~div.sk-toggleable__content {max-height: 200px;max-width: 100%;overflow: auto;}#sk-container-id-4 input.sk-toggleable__control:checked~label.sk-toggleable__label-arrow:before {content: \"▾\";}#sk-container-id-4 div.sk-estimator input.sk-toggleable__control:checked~label.sk-toggleable__label {background-color: #d4ebff;}#sk-container-id-4 div.sk-label input.sk-toggleable__control:checked~label.sk-toggleable__label {background-color: #d4ebff;}#sk-container-id-4 input.sk-hidden--visually {border: 0;clip: rect(1px 1px 1px 1px);clip: rect(1px, 1px, 1px, 1px);height: 1px;margin: -1px;overflow: hidden;padding: 0;position: absolute;width: 1px;}#sk-container-id-4 div.sk-estimator {font-family: monospace;background-color: #f0f8ff;border: 1px dotted black;border-radius: 0.25em;box-sizing: border-box;margin-bottom: 0.5em;}#sk-container-id-4 div.sk-estimator:hover {background-color: #d4ebff;}#sk-container-id-4 div.sk-parallel-item::after {content: \"\";width: 100%;border-bottom: 1px solid gray;flex-grow: 1;}#sk-container-id-4 div.sk-label:hover label.sk-toggleable__label {background-color: #d4ebff;}#sk-container-id-4 div.sk-serial::before {content: \"\";position: absolute;border-left: 1px solid gray;box-sizing: border-box;top: 0;bottom: 0;left: 50%;z-index: 0;}#sk-container-id-4 div.sk-serial {display: flex;flex-direction: column;align-items: center;background-color: white;padding-right: 0.2em;padding-left: 0.2em;position: relative;}#sk-container-id-4 div.sk-item {position: relative;z-index: 1;}#sk-container-id-4 div.sk-parallel {display: flex;align-items: stretch;justify-content: center;background-color: white;position: relative;}#sk-container-id-4 div.sk-item::before, #sk-container-id-4 div.sk-parallel-item::before {content: \"\";position: absolute;border-left: 1px solid gray;box-sizing: border-box;top: 0;bottom: 0;left: 50%;z-index: -1;}#sk-container-id-4 div.sk-parallel-item {display: flex;flex-direction: column;z-index: 1;position: relative;background-color: white;}#sk-container-id-4 div.sk-parallel-item:first-child::after {align-self: flex-end;width: 50%;}#sk-container-id-4 div.sk-parallel-item:last-child::after {align-self: flex-start;width: 50%;}#sk-container-id-4 div.sk-parallel-item:only-child::after {width: 0;}#sk-container-id-4 div.sk-dashed-wrapped {border: 1px dashed gray;margin: 0 0.4em 0.5em 0.4em;box-sizing: border-box;padding-bottom: 0.4em;background-color: white;}#sk-container-id-4 div.sk-label label {font-family: monospace;font-weight: bold;display: inline-block;line-height: 1.2em;}#sk-container-id-4 div.sk-label-container {text-align: center;}#sk-container-id-4 div.sk-container {/* jupyter's `normalize.less` sets `[hidden] { display: none; }` but bootstrap.min.css set `[hidden] { display: none !important; }` so we also need the `!important` here to be able to override the default hidden behavior on the sphinx rendered scikit-learn.org. See: https://github.com/scikit-learn/scikit-learn/issues/21755 */display: inline-block !important;position: relative;}#sk-container-id-4 div.sk-text-repr-fallback {display: none;}</style><div id=\"sk-container-id-4\" class=\"sk-top-container\"><div class=\"sk-text-repr-fallback\"><pre>LinearRegression()</pre><b>In a Jupyter environment, please rerun this cell to show the HTML representation or trust the notebook. <br />On GitHub, the HTML representation is unable to render, please try loading this page with nbviewer.org.</b></div><div class=\"sk-container\" hidden><div class=\"sk-item\"><div class=\"sk-estimator sk-toggleable\"><input class=\"sk-toggleable__control sk-hidden--visually\" id=\"sk-estimator-id-4\" type=\"checkbox\" checked><label for=\"sk-estimator-id-4\" class=\"sk-toggleable__label sk-toggleable__label-arrow\">LinearRegression</label><div class=\"sk-toggleable__content\"><pre>LinearRegression()</pre></div></div></div></div></div>"
     },
     "execution_count": 39,
     "metadata": {},
     "output_type": "execute_result"
    }
   ],
   "source": [
    "model2.fit(X1_train_scaled, y1_train)"
   ],
   "metadata": {
    "collapsed": false,
    "pycharm": {
     "name": "#%%\n"
    }
   }
  },
  {
   "cell_type": "code",
   "execution_count": 40,
   "outputs": [
    {
     "data": {
      "text/plain": "array([ 6.45031659e+00,  5.03977330e-01, -1.53521437e+01,  2.05189607e+01,\n        6.85147204e-02, -4.76500289e+00,  2.22058861e+04, -2.16753601e+04,\n       -5.31283826e+02])"
     },
     "execution_count": 40,
     "metadata": {},
     "output_type": "execute_result"
    }
   ],
   "source": [
    "model2.coef_"
   ],
   "metadata": {
    "collapsed": false,
    "pycharm": {
     "name": "#%%\n"
    }
   }
  },
  {
   "cell_type": "code",
   "execution_count": 41,
   "outputs": [
    {
     "data": {
      "text/plain": "-0.015586229867774026"
     },
     "execution_count": 41,
     "metadata": {},
     "output_type": "execute_result"
    }
   ],
   "source": [
    "model2.intercept_"
   ],
   "metadata": {
    "collapsed": false,
    "pycharm": {
     "name": "#%%\n"
    }
   }
  },
  {
   "cell_type": "code",
   "execution_count": 42,
   "outputs": [
    {
     "data": {
      "text/plain": "0.6174991982974809"
     },
     "execution_count": 42,
     "metadata": {},
     "output_type": "execute_result"
    }
   ],
   "source": [
    "model2.score(X1_train_scaled, y1_train)"
   ],
   "metadata": {
    "collapsed": false,
    "pycharm": {
     "name": "#%%\n"
    }
   }
  },
  {
   "cell_type": "code",
   "execution_count": 43,
   "outputs": [
    {
     "data": {
      "text/plain": "            MedInc     HouseAge     AveRooms    AveBedrms   Population  \\\ncount  4128.000000  4128.000000  4128.000000  4128.000000  4128.000000   \nmean      0.231642     0.536318     0.034825     0.022694     0.039226   \nstd       0.133996     0.245186     0.022936     0.015790     0.030723   \nmin       0.000000     0.000000     0.005918     0.001235     0.000056   \n25%       0.141667     0.333333     0.027339     0.019927     0.021490   \n50%       0.208418     0.549020     0.032990     0.021189     0.032190   \n75%       0.289272     0.705882     0.039315     0.022736     0.047290   \nmax       1.000000     1.000000     1.071197     0.750090     0.434541   \n\n          AveOccup  distance2SF  distance2SJ  distance2SD  \ncount  4128.000000  4128.000000  4128.000000  4128.000000  \nmean      0.001832     0.594053     0.594033     0.593283  \nstd       0.001349     0.219688     0.219681     0.219550  \nmin       0.000421     0.037576     0.037576     0.037499  \n25%       0.001392     0.356665     0.356645     0.355993  \n50%       0.001721     0.724657     0.724632     0.723740  \n75%       0.002078     0.765832     0.765801     0.764944  \nmax       0.050745     0.998752     0.998751     0.998714  ",
      "text/html": "<div>\n<style scoped>\n    .dataframe tbody tr th:only-of-type {\n        vertical-align: middle;\n    }\n\n    .dataframe tbody tr th {\n        vertical-align: top;\n    }\n\n    .dataframe thead th {\n        text-align: right;\n    }\n</style>\n<table border=\"1\" class=\"dataframe\">\n  <thead>\n    <tr style=\"text-align: right;\">\n      <th></th>\n      <th>MedInc</th>\n      <th>HouseAge</th>\n      <th>AveRooms</th>\n      <th>AveBedrms</th>\n      <th>Population</th>\n      <th>AveOccup</th>\n      <th>distance2SF</th>\n      <th>distance2SJ</th>\n      <th>distance2SD</th>\n    </tr>\n  </thead>\n  <tbody>\n    <tr>\n      <th>count</th>\n      <td>4128.000000</td>\n      <td>4128.000000</td>\n      <td>4128.000000</td>\n      <td>4128.000000</td>\n      <td>4128.000000</td>\n      <td>4128.000000</td>\n      <td>4128.000000</td>\n      <td>4128.000000</td>\n      <td>4128.000000</td>\n    </tr>\n    <tr>\n      <th>mean</th>\n      <td>0.231642</td>\n      <td>0.536318</td>\n      <td>0.034825</td>\n      <td>0.022694</td>\n      <td>0.039226</td>\n      <td>0.001832</td>\n      <td>0.594053</td>\n      <td>0.594033</td>\n      <td>0.593283</td>\n    </tr>\n    <tr>\n      <th>std</th>\n      <td>0.133996</td>\n      <td>0.245186</td>\n      <td>0.022936</td>\n      <td>0.015790</td>\n      <td>0.030723</td>\n      <td>0.001349</td>\n      <td>0.219688</td>\n      <td>0.219681</td>\n      <td>0.219550</td>\n    </tr>\n    <tr>\n      <th>min</th>\n      <td>0.000000</td>\n      <td>0.000000</td>\n      <td>0.005918</td>\n      <td>0.001235</td>\n      <td>0.000056</td>\n      <td>0.000421</td>\n      <td>0.037576</td>\n      <td>0.037576</td>\n      <td>0.037499</td>\n    </tr>\n    <tr>\n      <th>25%</th>\n      <td>0.141667</td>\n      <td>0.333333</td>\n      <td>0.027339</td>\n      <td>0.019927</td>\n      <td>0.021490</td>\n      <td>0.001392</td>\n      <td>0.356665</td>\n      <td>0.356645</td>\n      <td>0.355993</td>\n    </tr>\n    <tr>\n      <th>50%</th>\n      <td>0.208418</td>\n      <td>0.549020</td>\n      <td>0.032990</td>\n      <td>0.021189</td>\n      <td>0.032190</td>\n      <td>0.001721</td>\n      <td>0.724657</td>\n      <td>0.724632</td>\n      <td>0.723740</td>\n    </tr>\n    <tr>\n      <th>75%</th>\n      <td>0.289272</td>\n      <td>0.705882</td>\n      <td>0.039315</td>\n      <td>0.022736</td>\n      <td>0.047290</td>\n      <td>0.002078</td>\n      <td>0.765832</td>\n      <td>0.765801</td>\n      <td>0.764944</td>\n    </tr>\n    <tr>\n      <th>max</th>\n      <td>1.000000</td>\n      <td>1.000000</td>\n      <td>1.071197</td>\n      <td>0.750090</td>\n      <td>0.434541</td>\n      <td>0.050745</td>\n      <td>0.998752</td>\n      <td>0.998751</td>\n      <td>0.998714</td>\n    </tr>\n  </tbody>\n</table>\n</div>"
     },
     "execution_count": 43,
     "metadata": {},
     "output_type": "execute_result"
    }
   ],
   "source": [
    "X1_test_scaled = scaler.transform(X1_test)\n",
    "X1_test_scaled = pd.DataFrame(X1_test_scaled, columns=X1_test.columns)\n",
    "X1_test_scaled.describe()"
   ],
   "metadata": {
    "collapsed": false,
    "pycharm": {
     "name": "#%%\n"
    }
   }
  },
  {
   "cell_type": "code",
   "execution_count": 44,
   "outputs": [
    {
     "data": {
      "text/plain": "0.6152256818876662"
     },
     "execution_count": 44,
     "metadata": {},
     "output_type": "execute_result"
    }
   ],
   "source": [
    "model2.score(X1_test_scaled, y1_test)"
   ],
   "metadata": {
    "collapsed": false,
    "pycharm": {
     "name": "#%%\n"
    }
   }
  },
  {
   "cell_type": "code",
   "execution_count": 45,
   "outputs": [
    {
     "data": {
      "text/plain": "   MedInc  HouseAge  AveRooms  AveBedrms  Population  AveOccup  distance2SF  \\\n0       6        30         6          3         300         2  9574.487683   \n\n   distance2SJ   distance2SD  \n0  9642.067596  10310.715499  ",
      "text/html": "<div>\n<style scoped>\n    .dataframe tbody tr th:only-of-type {\n        vertical-align: middle;\n    }\n\n    .dataframe tbody tr th {\n        vertical-align: top;\n    }\n\n    .dataframe thead th {\n        text-align: right;\n    }\n</style>\n<table border=\"1\" class=\"dataframe\">\n  <thead>\n    <tr style=\"text-align: right;\">\n      <th></th>\n      <th>MedInc</th>\n      <th>HouseAge</th>\n      <th>AveRooms</th>\n      <th>AveBedrms</th>\n      <th>Population</th>\n      <th>AveOccup</th>\n      <th>distance2SF</th>\n      <th>distance2SJ</th>\n      <th>distance2SD</th>\n    </tr>\n  </thead>\n  <tbody>\n    <tr>\n      <th>0</th>\n      <td>6</td>\n      <td>30</td>\n      <td>6</td>\n      <td>3</td>\n      <td>300</td>\n      <td>2</td>\n      <td>9574.487683</td>\n      <td>9642.067596</td>\n      <td>10310.715499</td>\n    </tr>\n  </tbody>\n</table>\n</div>"
     },
     "execution_count": 45,
     "metadata": {},
     "output_type": "execute_result"
    }
   ],
   "source": [
    "my_house_coords = (36.8252, -119.7029)\n",
    "dist2SF = geodesic(my_house_coords, SF).km\n",
    "dist2SJ = geodesic(my_house_coords, SJ).km\n",
    "dist2SD = geodesic(my_house_coords, SD).km\n",
    "\n",
    "my_house1 = pd.DataFrame(\n",
    "    [[6, 30, 6, 3, 300, 2, dist2SF, dist2SJ, dist2SD]],\n",
    "    columns=[\"MedInc\", \"HouseAge\", \"AveRooms\", \"AveBedrms\", \"Population\", \"AveOccup\",\"distance2SF\",\"distance2SJ\",\"distance2SD\"])\n",
    "my_house1"
   ],
   "metadata": {
    "collapsed": false,
    "pycharm": {
     "name": "#%%\n"
    }
   }
  },
  {
   "cell_type": "code",
   "execution_count": 46,
   "outputs": [
    {
     "data": {
      "text/plain": "array([3.61137759])"
     },
     "execution_count": 46,
     "metadata": {},
     "output_type": "execute_result"
    }
   ],
   "source": [
    "my_house1_scaled = scaler.transform(my_house1)\n",
    "my_house1_scaled = pd.DataFrame(my_house1_scaled, columns=my_house1.columns)\n",
    "model2.predict(my_house1_scaled)\n"
   ],
   "metadata": {
    "collapsed": false,
    "pycharm": {
     "name": "#%%\n"
    }
   }
  }
 ],
 "metadata": {
  "kernelspec": {
   "display_name": "Python 3 (ipykernel)",
   "language": "python",
   "name": "python3"
  },
  "language_info": {
   "codemirror_mode": {
    "name": "ipython",
    "version": 3
   },
   "file_extension": ".py",
   "mimetype": "text/x-python",
   "name": "python",
   "nbconvert_exporter": "python",
   "pygments_lexer": "ipython3",
   "version": "3.8.13"
  }
 },
 "nbformat": 4,
 "nbformat_minor": 5
}